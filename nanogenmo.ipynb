{
 "cells": [
  {
   "cell_type": "markdown",
   "metadata": {},
   "source": [
    "# NaNoGenMo assignment"
   ]
  },
  {
   "cell_type": "markdown",
   "metadata": {},
   "source": [
    "## Random"
   ]
  },
  {
   "cell_type": "markdown",
   "metadata": {},
   "source": [
    "Add the **Random** library to this Jupyter notebook:"
   ]
  },
  {
   "cell_type": "code",
   "execution_count": null,
   "metadata": {},
   "outputs": [],
   "source": [
    "import random"
   ]
  },
  {
   "cell_type": "markdown",
   "metadata": {},
   "source": [
    "## spaCy (& displacy)"
   ]
  },
  {
   "cell_type": "markdown",
   "metadata": {},
   "source": [
    "If not yet installed, install **[spaCy](https://spacy.io/usage)** using **Anaconda**."
   ]
  },
  {
   "cell_type": "code",
   "execution_count": null,
   "metadata": {},
   "outputs": [],
   "source": [
    "# uncomment to install\n",
    "# !conda install -c conda-forge spacy"
   ]
  },
  {
   "cell_type": "markdown",
   "metadata": {},
   "source": [
    "[Download](https://spacy.io/usage/models#download) the small general-purpose model:"
   ]
  },
  {
   "cell_type": "code",
   "execution_count": null,
   "metadata": {},
   "outputs": [],
   "source": [
    "# uncomment to install\n",
    "# !python -m spacy download en_core_web_sm"
   ]
  },
  {
   "cell_type": "markdown",
   "metadata": {},
   "source": [
    "Add **spaCy** to this Jupyter notebook."
   ]
  },
  {
   "cell_type": "code",
   "execution_count": null,
   "metadata": {},
   "outputs": [],
   "source": [
    "import spacy"
   ]
  },
  {
   "cell_type": "markdown",
   "metadata": {},
   "source": [
    "Add **displaCy** to this Jupyter notebook."
   ]
  },
  {
   "cell_type": "code",
   "execution_count": null,
   "metadata": {},
   "outputs": [],
   "source": [
    "from spacy import displacy"
   ]
  },
  {
   "cell_type": "markdown",
   "metadata": {},
   "source": [
    "Create a new **spaCy** small model (`en_core_web_sm`) object:"
   ]
  },
  {
   "cell_type": "code",
   "execution_count": null,
   "metadata": {},
   "outputs": [],
   "source": [
    "nlp = spacy.load('en_core_web_sm')"
   ]
  },
  {
   "cell_type": "markdown",
   "metadata": {},
   "source": [
    "## The Jungle Book"
   ]
  },
  {
   "cell_type": "markdown",
   "metadata": {},
   "source": [
    "The Jungle Book as a string:"
   ]
  },
  {
   "cell_type": "code",
   "execution_count": null,
   "metadata": {
    "scrolled": true
   },
   "outputs": [],
   "source": [
    "text_kip_jungle = open('00236.txt').read()\n",
    "len(text_kip_jungle)"
   ]
  },
  {
   "cell_type": "markdown",
   "metadata": {},
   "source": [
    "The Jungle Book as natural language processed object:"
   ]
  },
  {
   "cell_type": "code",
   "execution_count": null,
   "metadata": {},
   "outputs": [],
   "source": [
    "doc_kip_jungle = nlp(open(\"00236.txt\").read())"
   ]
  },
  {
   "cell_type": "markdown",
   "metadata": {},
   "source": [
    "The Jungle Book parsed into a list of sentences, print how many:"
   ]
  },
  {
   "cell_type": "code",
   "execution_count": null,
   "metadata": {
    "scrolled": false
   },
   "outputs": [],
   "source": [
    "kip_jungle_sentences = list(doc_kip_jungle.sents)\n",
    "len(kip_jungle_sentences)"
   ]
  },
  {
   "cell_type": "markdown",
   "metadata": {},
   "source": [
    "Print out 5 random sentences from the list:"
   ]
  },
  {
   "cell_type": "code",
   "execution_count": null,
   "metadata": {},
   "outputs": [],
   "source": [
    "random.sample(kip_jungle_sentences, 5)"
   ]
  },
  {
   "cell_type": "markdown",
   "metadata": {},
   "source": [
    "### The Jungle Book » Noun Chunks, Subjects, and Direct Objects"
   ]
  },
  {
   "cell_type": "markdown",
   "metadata": {},
   "source": [
    "The Jungle Book parsed into a list of noun chunks"
   ]
  },
  {
   "cell_type": "code",
   "execution_count": null,
   "metadata": {
    "scrolled": false
   },
   "outputs": [],
   "source": [
    "kip_jungle_noun_chunks = list(doc_kip_jungle.noun_chunks)\n",
    "random.sample(kip_jungle_noun_chunks, 5)"
   ]
  },
  {
   "cell_type": "markdown",
   "metadata": {},
   "source": [
    "Noun chunks parsed into subjects and direct objects"
   ]
  },
  {
   "cell_type": "code",
   "execution_count": null,
   "metadata": {},
   "outputs": [],
   "source": [
    "kip_jungle_subjects = [chunk for chunk in kip_jungle_noun_chunks if chunk.root.dep_ == 'nsubj']\n",
    "kip_jungle_objects = [chunk for chunk in kip_jungle_noun_chunks if chunk.root.dep_ == 'dobj']"
   ]
  },
  {
   "cell_type": "code",
   "execution_count": null,
   "metadata": {},
   "outputs": [],
   "source": [
    "# random.sample(kip_jungle_noun_chunks, 5)\n",
    "# random.sample(kip_jungle_subjects, 5)\n",
    "random.sample(kip_jungle_objects, 5)"
   ]
  },
  {
   "cell_type": "markdown",
   "metadata": {},
   "source": [
    "### The Jungle Book » Parts of Speech"
   ]
  },
  {
   "cell_type": "markdown",
   "metadata": {},
   "source": [
    "The Jungle Book tagged with various parts of speech"
   ]
  },
  {
   "cell_type": "code",
   "execution_count": null,
   "metadata": {
    "scrolled": false
   },
   "outputs": [],
   "source": [
    "kip_jungle_sentences = list(doc_kip_jungle.sents)\n",
    "len(kip_jungle_sentences)"
   ]
  },
  {
   "cell_type": "code",
   "execution_count": null,
   "metadata": {
    "scrolled": false
   },
   "outputs": [],
   "source": [
    "kip_jungle_nums_card = [w for w in doc_kip_jungle if w.tag_ == \"CD\"] # e.g. one, two, three\n",
    "\n",
    "kip_jungle_adjs = [w for w in doc_kip_jungle if w.tag_ == \"JJ\"]\n",
    "kip_jungle_adjs_comparative = [w for w in doc_kip_jungle if w.tag_ == \"JJR\"] # e.g. bigger, better, stonger, worse\n",
    "kip_jungle_adjs_superlative = [w for w in doc_kip_jungle if w.tag_ == \"JJS\"] # e.g. biggest, best, strongest, worst\n",
    "\n",
    "kip_jungle_verb_modal = [w for w in doc_kip_jungle if w.tag_ == \"MD\"] # fanboy\n",
    "\n",
    "kip_jungle_nouns = [w for w in doc_kip_jungle if w.tag_ == \"NN\"]\n",
    "kip_jungle_nouns_prop_sing = [w for w in doc_kip_jungle if w.tag_ == \"NNP\"]\n",
    "kip_jungle_nouns_prop_plur = [w for w in doc_kip_jungle if w.tag_ == \"NNPS\"]\n",
    "\n",
    "kip_jungle_pronouns_personal = [w for w in doc_kip_jungle if w.tag_ == \"PRP\"] # e.g. he, she, I, they\n",
    "kip_jungle_pronouns_posses = [w for w in doc_kip_jungle if w.tag_ == \"PRP$\"] # his, hers, my, their\n",
    "\n",
    "kip_jungle_adverbs = [w for w in doc_kip_jungle if w.tag_ == \"RB\"]\n",
    "kip_jungle_adverbs_comparative = [w for w in doc_kip_jungle if w.tag_ == \"RBR\"]\n",
    "kip_jungle_adverbs_superlative = [w for w in doc_kip_jungle if w.tag_ == \"RBS\"]\n",
    "kip_jungle_adverbs_paticiple = [w for w in doc_kip_jungle if w.tag_ == \"RP\"]\n",
    "\n",
    "kip_jungle_verbs = [w for w in doc_kip_jungle if w.tag_ == \"VB\"] # fall\n",
    "kip_jungle_verbs_past_tense = [w for w in doc_kip_jungle if w.tag_ == 'VBD'] # fell\n",
    "kip_jungle_verbs_pres_participle = [w for w in doc_kip_jungle if w.tag_ == \"VBG\"] # verb-ing\n",
    "kip_jungle_verbs_past_participle = [w for w in doc_kip_jungle if w.tag_ == \"VBN\"] # verb-ed\n",
    "kip_jungle_verbs_pres_singular = [w for w in doc_kip_jungle if w.tag_ == \"VBP\"]\n",
    "kip_jungle_verbs_pres_singular_3rd = [w for w in doc_kip_jungle if w.tag_ == \"VBZ\"]\n",
    "\n",
    "kip_jungle_numbers = [w for w in doc_kip_jungle if w.pos_ == \"NUM\"]"
   ]
  },
  {
   "cell_type": "code",
   "execution_count": null,
   "metadata": {},
   "outputs": [],
   "source": [
    "for i in range(10):\n",
    "    print(random.choice(kip_jungle_verbs_pres_singular_3rd))"
   ]
  },
  {
   "cell_type": "markdown",
   "metadata": {},
   "source": [
    "### The Jungle Book Named Entity Recognition"
   ]
  },
  {
   "cell_type": "code",
   "execution_count": null,
   "metadata": {},
   "outputs": [],
   "source": [
    "for item in doc_kip_jungle.ents:\n",
    "    print(item.text, item.label_)"
   ]
  },
  {
   "cell_type": "code",
   "execution_count": null,
   "metadata": {},
   "outputs": [],
   "source": [
    "kip_jungle_ents = list(doc_kip_jungle.ents)\n",
    "random.sample(kip_jungle_ents, 5)"
   ]
  },
  {
   "cell_type": "markdown",
   "metadata": {},
   "source": [
    "Parsing for entity types in The Jungle Book:"
   ]
  },
  {
   "cell_type": "code",
   "execution_count": null,
   "metadata": {},
   "outputs": [],
   "source": [
    "kip_jungle_people = [e for e in kip_jungle_ents if e.label_ == \"PERSON\"]\n",
    "kip_jungle_locations = [e for e in kip_jungle_ents if e.label_ == \"LOC\"]\n",
    "kip_jungle_products = [e for e in kip_jungle_ents if e.label_ == \"PRODUCT\"]\n",
    "# kip_jungle_events = [e for e in kip_jungle_ents if e.label_ == \"EVENT\"] # not much to work with in Kipling\n",
    "kip_jungle_times = [e for e in kip_jungle_ents if e.label_ == \"TIME\"]\n",
    "kip_jungle_nums_cardinal = [e for e in kip_jungle_ents if e.label_ == \"CARDINAL\"] # one, two, three\n",
    "kip_jungle_nums_ordinal = [e for e in kip_jungle_ents if e.label_ == \"ORDINAL\"] # first, second, third"
   ]
  },
  {
   "cell_type": "markdown",
   "metadata": {},
   "source": [
    "Print 5 random people from the Jungle Book:"
   ]
  },
  {
   "cell_type": "code",
   "execution_count": null,
   "metadata": {},
   "outputs": [],
   "source": [
    "# random.sample(kip_jungle_people, 5)\n",
    "# random.sample(kip_jungle_locations, 5)\n",
    "# random.sample(kip_jungle_products, 5)\n",
    "# random.sample(kip_jungle_events, 5)\n",
    "random.sample(kip_jungle_times, 5)\n",
    "# random.sample(kip_jungle_nums_cardinal, 5)\n",
    "# random.sample(kip_jungle_nums_ordinal, 5)"
   ]
  },
  {
   "cell_type": "markdown",
   "metadata": {},
   "source": [
    "## Tracery"
   ]
  },
  {
   "cell_type": "markdown",
   "metadata": {},
   "source": [
    "If not yet installed, install Allison Parrish's **Tracery** library:"
   ]
  },
  {
   "cell_type": "code",
   "execution_count": null,
   "metadata": {},
   "outputs": [],
   "source": [
    "# uncomment to install\n",
    "# !pip install tracery"
   ]
  },
  {
   "cell_type": "markdown",
   "metadata": {},
   "source": [
    "Add **Tracery** to this Jupyter notebook:"
   ]
  },
  {
   "cell_type": "code",
   "execution_count": null,
   "metadata": {},
   "outputs": [],
   "source": [
    "import tracery\n",
    "from tracery.modifiers import base_english"
   ]
  },
  {
   "cell_type": "markdown",
   "metadata": {},
   "source": [
    "Define a **Tracery** grammer that uses the lists created with spaCy:"
   ]
  },
  {
   "cell_type": "code",
   "execution_count": null,
   "metadata": {},
   "outputs": [],
   "source": [
    "# rules = {\n",
    "#     \"subject\": [w.text for w in kip_jungle_subjects],\n",
    "#     \"object\": [w.text for w in kip_jungle_objects],\n",
    "#     \"verb\": [w.text for w in kip_jungle_verbs_past_tense],\n",
    "#     \"adj\": [w.text for w in kip_jungle_adjs],\n",
    "#     \"people\": [w.text for w in kip_jungle_people],\n",
    "#     \"loc\": [w.text for w in kip_jungle_locations],\n",
    "#     \"time\": [w.text for w in kip_jungle_times],\n",
    "#     \"origin\": \"#scene#\\n\\n[charA:#subject#][charB:#subject#][prop:#object#]#sentences#\",\n",
    "#     \"scene\": \"SCENE: #loc#, #time.lowercase#\",\n",
    "#     \"sentences\": [\n",
    "#         \"#sentence#\\n#sentence#\",\n",
    "#         \"#sentence#\\n#sentence#\\n#sentence#\",\n",
    "#         \"#sentence#\\n#sentence#\\n#sentence#\\n#sentence#\"\n",
    "#     ],\n",
    "#     \"sentence\": [\n",
    "#         \"#charA.capitalize# #verb# #prop#.\",\n",
    "#         \"#charB.capitalize# #verb# #prop#.\",\n",
    "#         \"#prop.capitalize# became #adj#.\",\n",
    "#         \"#charA.capitalize# and #charB# greeted each other.\",\n",
    "#         \"'Did you hear about #object.lowercase#?' said #charA#.\",\n",
    "#         \"'#subject.capitalize# is #adj#,' said #charB#.\",\n",
    "#         \"#charA.capitalize# and #charB# #verb# #object#.\",\n",
    "#         \"#charA.capitalize# and #charB# looked at each other.\",\n",
    "#         \"#sentence#\\n#sentence#\"\n",
    "#     ]\n",
    "# }\n",
    "\n",
    "rules = {\n",
    "    \"chunks\": [w.text for w in kip_jungle_noun_chunks],\n",
    "    \"subject\": [w.text for w in kip_jungle_subjects],\n",
    "    \"object\": [w.text for w in kip_jungle_objects],\n",
    "    \"adj\": [w.text for w in kip_jungle_adjs],\n",
    "    \"comparative\": [w.text for w in kip_jungle_adjs_comparative], # e.g. bigger, better, stonger, worse\n",
    "    \"superlative\": [w.text for w in kip_jungle_adjs_superlative], # e.g. biggest, best, strongest, worst\n",
    "    \n",
    "    \"modal\": [w.text for w in kip_jungle_verb_modal], # e.g., can, could, may, might, must, will, would, shall, should, ought to, had better\n",
    "    \n",
    "    \"noun\": [w.text for w in kip_jungle_nouns],\n",
    "    \"noun_prop_sing\": [w.text for w in kip_jungle_nouns_prop_sing],\n",
    "    \"noun_noun_prop_plur\": [w.text for w in kip_jungle_nouns_prop_plur],\n",
    "    \n",
    "    \"verb\": [w.text for w in kip_jungle_verbs],\n",
    "    \"verb_past\": [w.text for w in kip_jungle_verbs_past_tense],\n",
    "    \"verb_past_part\": [w.text for w in kip_jungle_verbs_past_participle],\n",
    "    \"verb_pres_part\": [w.text for w in kip_jungle_verbs_pres_participle],\n",
    "\n",
    "    \"people\": [w.text for w in kip_jungle_people],\n",
    "    \"location\": [w.text for w in kip_jungle_locations],\n",
    "    \"time\": [w.text for w in kip_jungle_times],\n",
    "    \"cardinal\": [w.text for w in kip_jungle_nums_cardinal],\n",
    "    \"ordinal\": [w.text for w in kip_jungle_nums_ordinal],\n",
    "    \"origin\": \"There are #cardinal# principle characters in this story, #cardinal# of whom are #adj#. The #ordinal# is something of #noun.a#, #verb_past_part# by #cardinal# of the #cardinal#, and #verb_pres_part# the others. 'The tale of child raised among #noun.s#,' #people# has suggested. This is the story the #superlative# of which were #verb_past_part# as #subject# sang the #verb_pres_part# during #time#, listened beside #location# to his own words traverse the space between, trying to map the final-saying. Yet another spin on loss of innocence, this is the narrative about #noun.s# #verb_pres_part# in the #location#. It is the story of the #noun#-child, raised by #subject#, waiting to shed something which was never in his possession to lose, who finds a box in which to write his child's unconscious partial-knowing: many compartments, each separated in space and time by the un-seen/scene.\",\n",
    "    \"scene\": \"SCENE: #loc#, #time.lowercase#\",\n",
    "    \"sentences\": [\n",
    "        \"#sentence#\\n#sentence#\",\n",
    "        \"#sentence#\\n#sentence#\\n#sentence#\",\n",
    "        \"#sentence#\\n#sentence#\\n#sentence#\\n#sentence#\"\n",
    "    ],\n",
    "    \"sentence\": [\n",
    "        \"#charA.capitalize# #verb# #prop#.\",\n",
    "        \"#charB.capitalize# #verb# #prop#.\",\n",
    "        \"#prop.capitalize# became #adj#.\",\n",
    "        \"#charA.capitalize# and #charB# greeted each other.\",\n",
    "        \"'Did you hear about #object.lowercase#?' said #charA#.\",\n",
    "        \"'#subject.capitalize# is #adj#,' said #charB#.\",\n",
    "        \"#charA.capitalize# and #charB# #verb# #object#.\",\n",
    "        \"#charA.capitalize# and #charB# looked at each other.\",\n",
    "        \"#sentence#\\n#sentence#\"\n",
    "    ]\n",
    "}"
   ]
  },
  {
   "cell_type": "markdown",
   "metadata": {},
   "source": [
    "Assign the Tracery rules to a variable:"
   ]
  },
  {
   "cell_type": "code",
   "execution_count": null,
   "metadata": {},
   "outputs": [],
   "source": [
    "grammar = tracery.Grammar(rules)\n",
    "grammar.add_modifiers(base_english)"
   ]
  },
  {
   "cell_type": "markdown",
   "metadata": {},
   "source": [
    "Loop through the rules to generate a text:"
   ]
  },
  {
   "cell_type": "code",
   "execution_count": null,
   "metadata": {},
   "outputs": [],
   "source": [
    "for i in range(3):\n",
    "    print(grammar.flatten(\"#origin#\"))\n",
    "    print()"
   ]
  },
  {
   "cell_type": "markdown",
   "metadata": {},
   "source": [
    "## Write to file"
   ]
  },
  {
   "cell_type": "code",
   "execution_count": null,
   "metadata": {},
   "outputs": [],
   "source": [
    "def save_nanogenmo(filename, counter, limit=1000):\n",
    "    with open(filename, \"w\") as outfile:\n",
    "        outfile.write(\"key\\tvalue\\n\")\n",
    "        for item, count in counter.most_common(limit):\n",
    "            outfile.write(item.strip() + \"\\t\" + str(count) + \"\\n\")"
   ]
  }
 ],
 "metadata": {
  "kernelspec": {
   "display_name": "Python 3",
   "language": "python",
   "name": "python3"
  },
  "language_info": {
   "codemirror_mode": {
    "name": "ipython",
    "version": 3
   },
   "file_extension": ".py",
   "mimetype": "text/x-python",
   "name": "python",
   "nbconvert_exporter": "python",
   "pygments_lexer": "ipython3",
   "version": "3.7.4"
  }
 },
 "nbformat": 4,
 "nbformat_minor": 2
}
